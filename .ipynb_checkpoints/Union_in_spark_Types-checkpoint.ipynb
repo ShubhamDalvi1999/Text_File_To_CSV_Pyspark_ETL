{
 "cells": [
  {
   "cell_type": "code",
   "execution_count": null,
   "id": "9fa70440-2942-489c-8bd8-239c507b03d2",
   "metadata": {},
   "outputs": [],
   "source": [
    "from pyspark.sql import SparkSession\n",
    "from pyspark.sql.functions import col\n",
    "\n",
    "# Initialize Spark session\n",
    "spark = SparkSession.builder.appName(\"example\").getOrCreate()\n",
    "\n",
    "# Sample DataFrames\n",
    "data1 = [(\"Alice\", 30), (\"Bob\", 25)]\n",
    "data2 = [(\"Charlie\", 35), (\"David\", 40)]\n",
    "\n",
    "columns1 = [\"name1\", \"age1\"]\n",
    "columns2 = [\"name2\", \"age2\"]\n",
    "\n",
    "df1 = spark.createDataFrame(data1, columns1)\n",
    "df2 = spark.createDataFrame(data2, columns2)\n",
    "\n",
    "# Rename columns to match\n",
    "df1_renamed = df1.withColumnRenamed(\"name1\", \"name\").withColumnRenamed(\"age1\", \"age\")\n",
    "df2_renamed = df2.withColumnRenamed(\"name2\", \"name\").withColumnRenamed(\"age2\", \"age\")\n",
    "\n",
    "# Union DataFrames\n",
    "union_df = df1_renamed.union(df2_renamed)\n",
    "\n",
    "# Show the result\n",
    "union_df.show()"
   ]
  },
  {
   "cell_type": "code",
   "execution_count": null,
   "id": "a78448db-e7b5-46bf-b7c0-0c36c5384291",
   "metadata": {},
   "outputs": [],
   "source": [
    "from pyspark.sql import SparkSession\n",
    "from pyspark.sql.functions import lit\n",
    "\n",
    "# Initialize Spark session\n",
    "spark = SparkSession.builder.appName(\"example\").getOrCreate()\n",
    "\n",
    "# Sample DataFrames\n",
    "data1 = [(\"Alice\", 30), (\"Bob\", 25)]\n",
    "data2 = [(\"Charlie\", 35), (\"David\", 40)]\n",
    "\n",
    "columns1 = [\"name1\", \"age1\"]\n",
    "columns2 = [\"name2\", \"age2\"]\n",
    "\n",
    "df1 = spark.createDataFrame(data1, columns1)\n",
    "df2 = spark.createDataFrame(data2, columns2)\n",
    "\n",
    "# Rename columns to match\n",
    "df1_renamed = df1.withColumnRenamed(\"name1\", \"name\").withColumnRenamed(\"age1\", \"age\")\\\n",
    "    .withColumn(\"source\", lit(\"df1\"))\n",
    "\n",
    "df2_renamed = df2.withColumnRenamed(\"name2\", \"name\").withColumnRenamed(\"age2\", \"age\")\\\n",
    "    .withColumn(\"source\", lit(\"df2\"))\n",
    "\n",
    "# Union DataFrames\n",
    "union_df = df1_renamed.union(df2_renamed)\n",
    "\n",
    "# Show the result\n",
    "union_df.show()\n"
   ]
  }
 ],
 "metadata": {
  "kernelspec": {
   "display_name": "Python 3 (ipykernel)",
   "language": "python",
   "name": "python3"
  },
  "language_info": {
   "codemirror_mode": {
    "name": "ipython",
    "version": 3
   },
   "file_extension": ".py",
   "mimetype": "text/x-python",
   "name": "python",
   "nbconvert_exporter": "python",
   "pygments_lexer": "ipython3",
   "version": "3.11.7"
  }
 },
 "nbformat": 4,
 "nbformat_minor": 5
}
