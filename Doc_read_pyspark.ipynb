{
 "cells": [
  {
   "cell_type": "code",
   "execution_count": 1,
   "id": "1be19382-55d5-4936-823f-68cbcf39bf30",
   "metadata": {
    "tags": []
   },
   "outputs": [],
   "source": [
    "from pyspark.sql import SparkSession"
   ]
  },
  {
   "cell_type": "code",
   "execution_count": 5,
   "id": "83fb2b8a-55ec-419e-8f07-6d410f59d942",
   "metadata": {
    "tags": []
   },
   "outputs": [],
   "source": [
    "spark = SparkSession.builder.appName(\"Doc_reader\").getOrCreate()"
   ]
  },
  {
   "cell_type": "code",
   "execution_count": 19,
   "id": "2c9e9b04-5762-4c0c-892e-d8868cc6414a",
   "metadata": {
    "tags": []
   },
   "outputs": [],
   "source": [
    "df = spark.read.text(\"DSA-For-Data-Engineer.txt\")"
   ]
  },
  {
   "cell_type": "code",
   "execution_count": 21,
   "id": "59980869-1e00-417a-96e7-8dea1b219777",
   "metadata": {
    "tags": []
   },
   "outputs": [
    {
     "data": {
      "text/plain": [
       "272"
      ]
     },
     "execution_count": 21,
     "metadata": {},
     "output_type": "execute_result"
    }
   ],
   "source": [
    "df.count()"
   ]
  },
  {
   "cell_type": "code",
   "execution_count": 23,
   "id": "eb47234b-fcba-498a-a1b2-9c2cd7ed83ec",
   "metadata": {
    "tags": []
   },
   "outputs": [
    {
     "name": "stdout",
     "output_type": "stream",
     "text": [
      "root\n",
      " |-- value: string (nullable = true)\n",
      "\n"
     ]
    }
   ],
   "source": [
    "df.printSchema()"
   ]
  },
  {
   "cell_type": "code",
   "execution_count": 25,
   "id": "aa82f382-85f5-433f-b4c2-deef4ddafa2d",
   "metadata": {
    "tags": []
   },
   "outputs": [
    {
     "data": {
      "text/plain": [
       "Row(value='ARRAYS')"
      ]
     },
     "execution_count": 25,
     "metadata": {},
     "output_type": "execute_result"
    }
   ],
   "source": [
    "df.head()"
   ]
  },
  {
   "cell_type": "markdown",
   "id": "86765dc9-7754-4be9-a982-9302960ead0b",
   "metadata": {
    "tags": []
   },
   "source": [
    "display(df.show())"
   ]
  },
  {
   "cell_type": "code",
   "execution_count": 33,
   "id": "96c122c5-cc52-4f55-9797-855b07327d73",
   "metadata": {
    "tags": []
   },
   "outputs": [],
   "source": [
    "from pyspark.sql.functions import when,col,rlike\n",
    "\n",
    "transformed_df = df.withColumn(\"Topic\", when(col(\"value\").rlike(r\"^[ A-Z]\"), col(\"value\")).otherwise(None))  \\\n",
    "        .withColumn(\"Questions\", when(col(\"value\").rlike(r\"^\\d+\\.\"), col(\"value\")).otherwise(None))"
   ]
  },
  {
   "cell_type": "code",
   "execution_count": 35,
   "id": "4f0fe54a-6f56-444b-be83-c02ecf8ffac4",
   "metadata": {
    "tags": []
   },
   "outputs": [
    {
     "name": "stdout",
     "output_type": "stream",
     "text": [
      "root\n",
      " |-- value: string (nullable = true)\n",
      " |-- Topic: string (nullable = true)\n",
      " |-- Questions: string (nullable = true)\n",
      "\n"
     ]
    }
   ],
   "source": [
    "transformed_df.printSchema()"
   ]
  },
  {
   "cell_type": "markdown",
   "id": "9f8dca0e-0da9-4451-83ea-f3c62409260f",
   "metadata": {
    "tags": []
   },
   "source": [
    "# EDA on the data"
   ]
  },
  {
   "cell_type": "code",
   "execution_count": 37,
   "id": "ace69ea2-ba8c-44fb-a426-e8feeb8ed260",
   "metadata": {
    "tags": []
   },
   "outputs": [],
   "source": [
    "from pyspark.sql.functions import isnan, count"
   ]
  },
  {
   "cell_type": "code",
   "execution_count": 55,
   "id": "f0f987d0-4b74-4ba9-a93c-39be0386a6ec",
   "metadata": {
    "tags": []
   },
   "outputs": [
    {
     "name": "stdout",
     "output_type": "stream",
     "text": [
      "+-----+-----+---------+\n",
      "|value|Topic|Questions|\n",
      "+-----+-----+---------+\n",
      "|  272|   12|      223|\n",
      "+-----+-----+---------+\n",
      "\n"
     ]
    }
   ],
   "source": [
    "eda_df= transformed_df.select([count(col(c)).alias(c) for c in transformed_df.columns])\n",
    "eda_df.show()"
   ]
  },
  {
   "cell_type": "code",
   "execution_count": 81,
   "id": "9011d48d-7709-4f1d-9483-02aaa8f016c2",
   "metadata": {
    "tags": []
   },
   "outputs": [
    {
     "name": "stdout",
     "output_type": "stream",
     "text": [
      "+--------------+--------------+------------------+\n",
      "|value_null_val|Topic_null_val|Questions_null_val|\n",
      "+--------------+--------------+------------------+\n",
      "|             0|           260|                49|\n",
      "+--------------+--------------+------------------+\n",
      "\n"
     ]
    }
   ],
   "source": [
    "eda_null_df= transformed_df.select([count(when( isnan(c) | col(c).isNull(), c)).alias(f\"{c}_null_val\") for c in transformed_df.columns ])\n",
    "eda_null_df.show()"
   ]
  },
  {
   "cell_type": "code",
   "execution_count": 89,
   "id": "72e092c0-a265-4b4b-bb91-b9c14b6a9e42",
   "metadata": {
    "tags": []
   },
   "outputs": [],
   "source": [
    "union_df= eda_df.union(eda_null_df)"
   ]
  },
  {
   "cell_type": "code",
   "execution_count": 91,
   "id": "f012e81d-5007-4312-8038-06aa6cce29d5",
   "metadata": {
    "tags": []
   },
   "outputs": [
    {
     "name": "stdout",
     "output_type": "stream",
     "text": [
      "+-----+-----+---------+\n",
      "|value|Topic|Questions|\n",
      "+-----+-----+---------+\n",
      "|  272|   12|      223|\n",
      "|    0|  260|       49|\n",
      "+-----+-----+---------+\n",
      "\n"
     ]
    }
   ],
   "source": [
    "union_df.show()"
   ]
  },
  {
   "cell_type": "markdown",
   "id": "eca549cf-0e5b-467c-8804-2f8fbc598013",
   "metadata": {},
   "source": [
    "# Finding the percentage of null values in columns in a dataframe"
   ]
  },
  {
   "cell_type": "code",
   "execution_count": 104,
   "id": "29d22353-5861-49b8-82df-d733b5119726",
   "metadata": {
    "tags": []
   },
   "outputs": [],
   "source": [
    "\n",
    "total_rows_count =transformed_df.count()\n",
    "\n",
    "#initialize a empty list of tuple for tracking null_percentage of each column\n",
    "null_percentages = []\n",
    "\n",
    "for  c in transformed_df.columns:\n",
    "    \n",
    "    null_count = transformed_df.filter(col(c).isNull() | isnan(c)).count()\n",
    "    \n",
    "    null_percent = (null_count/ total_rows_count)*100\n",
    "    \n",
    "    null_percentages.append((c, round(null_percent, 3)))\n",
    "\n"
   ]
  },
  {
   "cell_type": "code",
   "execution_count": 106,
   "id": "2e29cf3a-d2c0-42c5-8335-7b4ff96c832c",
   "metadata": {
    "tags": []
   },
   "outputs": [
    {
     "name": "stdout",
     "output_type": "stream",
     "text": [
      "+---------+----------------+\n",
      "|   Column|Null_Percentages|\n",
      "+---------+----------------+\n",
      "|    value|             0.0|\n",
      "|    Topic|          95.588|\n",
      "|Questions|          18.015|\n",
      "+---------+----------------+\n",
      "\n"
     ]
    }
   ],
   "source": [
    "percent_df = spark.createDataFrame(null_percentages, [\"Column\",\"Null_Percentages\"])\n",
    "\n",
    "percent_df.show()"
   ]
  },
  {
   "cell_type": "markdown",
   "id": "20e5aa84-6431-42e2-8480-9573b7f0abfd",
   "metadata": {},
   "source": [
    "# Cleaning columns "
   ]
  },
  {
   "cell_type": "code",
   "execution_count": 112,
   "id": "bb9fa8bb-9a52-4eb8-99df-ae612014b0b3",
   "metadata": {
    "tags": []
   },
   "outputs": [
    {
     "name": "stdout",
     "output_type": "stream",
     "text": [
      "+--------------------+------+--------------------+\n",
      "|               value| Topic|           Questions|\n",
      "+--------------------+------+--------------------+\n",
      "|              ARRAYS|ARRAYS|                NULL|\n",
      "|                    |  NULL|                NULL|\n",
      "|1. Find 2 element...|  NULL|1. Find 2 element...|\n",
      "| 2. Majority Element|  NULL| 2. Majority Element|\n",
      "|3. Find the numbe...|  NULL|3. Find the numbe...|\n",
      "|4. Merge an array...|  NULL|4. Merge an array...|\n",
      "|  5. Rotate an array|  NULL|  5. Rotate an array|\n",
      "|6. Leaders in an ...|  NULL|6. Leaders in an ...|\n",
      "|7. Majority eleme...|  NULL|7. Majority eleme...|\n",
      "|8. Segregate 0s a...|  NULL|8. Segregate 0s a...|\n",
      "|    9. Product array|  NULL|    9. Product array|\n",
      "|10. Find 2 repeat...|  NULL|10. Find 2 repeat...|\n",
      "|11. Find the smal...|  NULL|11. Find the smal...|\n",
      "|12. Find max j-i ...|  NULL|12. Find max j-i ...|\n",
      "|13. Find subarray...|  NULL|13. Find subarray...|\n",
      "|14. Find the smal...|  NULL|14. Find the smal...|\n",
      "|15. Find 2 number...|  NULL|15. Find 2 number...|\n",
      "|16. Largest subar...|  NULL|16. Largest subar...|\n",
      "|17. Replace every...|  NULL|17. Replace every...|\n",
      "|18. Stock buy sel...|  NULL|18. Stock buy sel...|\n",
      "+--------------------+------+--------------------+\n",
      "only showing top 20 rows\n",
      "\n"
     ]
    },
    {
     "data": {
      "text/plain": [
       "None"
      ]
     },
     "metadata": {},
     "output_type": "display_data"
    }
   ],
   "source": [
    "display(transformed_df.show())"
   ]
  },
  {
   "cell_type": "code",
   "execution_count": 116,
   "id": "0d746ac0-7c69-4518-b251-c5edfee495f2",
   "metadata": {
    "tags": []
   },
   "outputs": [],
   "source": [
    "transformed_df=transformed_df.drop(col(\"value\"))"
   ]
  },
  {
   "cell_type": "code",
   "execution_count": 118,
   "id": "fcc982c1-9d97-4df6-b1f3-4470ea363c53",
   "metadata": {
    "tags": []
   },
   "outputs": [
    {
     "name": "stdout",
     "output_type": "stream",
     "text": [
      "+------+--------------------+\n",
      "| Topic|           Questions|\n",
      "+------+--------------------+\n",
      "|ARRAYS|                NULL|\n",
      "|  NULL|                NULL|\n",
      "|  NULL|1. Find 2 element...|\n",
      "|  NULL| 2. Majority Element|\n",
      "|  NULL|3. Find the numbe...|\n",
      "|  NULL|4. Merge an array...|\n",
      "|  NULL|  5. Rotate an array|\n",
      "|  NULL|6. Leaders in an ...|\n",
      "|  NULL|7. Majority eleme...|\n",
      "|  NULL|8. Segregate 0s a...|\n",
      "|  NULL|    9. Product array|\n",
      "|  NULL|10. Find 2 repeat...|\n",
      "|  NULL|11. Find the smal...|\n",
      "|  NULL|12. Find max j-i ...|\n",
      "|  NULL|13. Find subarray...|\n",
      "|  NULL|14. Find the smal...|\n",
      "|  NULL|15. Find 2 number...|\n",
      "|  NULL|16. Largest subar...|\n",
      "|  NULL|17. Replace every...|\n",
      "|  NULL|18. Stock buy sel...|\n",
      "+------+--------------------+\n",
      "only showing top 20 rows\n",
      "\n"
     ]
    }
   ],
   "source": [
    "transformed_df.show()"
   ]
  },
  {
   "cell_type": "markdown",
   "id": "eb8f7e42-9c84-439b-a30c-88ab9a8e7b4d",
   "metadata": {},
   "source": [
    "# Replacing none with blanks"
   ]
  },
  {
   "cell_type": "code",
   "execution_count": 121,
   "id": "be1090be-d7e7-46a0-ac87-3108f6af4272",
   "metadata": {
    "tags": []
   },
   "outputs": [],
   "source": [
    "transformed_df = transformed_df.fillna(\"\")"
   ]
  },
  {
   "cell_type": "code",
   "execution_count": 123,
   "id": "356334b6-97de-4e3a-95ac-6a1c18237867",
   "metadata": {
    "tags": []
   },
   "outputs": [
    {
     "name": "stdout",
     "output_type": "stream",
     "text": [
      "+------+--------------------+\n",
      "| Topic|           Questions|\n",
      "+------+--------------------+\n",
      "|ARRAYS|                    |\n",
      "|      |                    |\n",
      "|      |1. Find 2 element...|\n",
      "|      | 2. Majority Element|\n",
      "|      |3. Find the numbe...|\n",
      "|      |4. Merge an array...|\n",
      "|      |  5. Rotate an array|\n",
      "|      |6. Leaders in an ...|\n",
      "|      |7. Majority eleme...|\n",
      "|      |8. Segregate 0s a...|\n",
      "|      |    9. Product array|\n",
      "|      |10. Find 2 repeat...|\n",
      "|      |11. Find the smal...|\n",
      "|      |12. Find max j-i ...|\n",
      "|      |13. Find subarray...|\n",
      "|      |14. Find the smal...|\n",
      "|      |15. Find 2 number...|\n",
      "|      |16. Largest subar...|\n",
      "|      |17. Replace every...|\n",
      "|      |18. Stock buy sel...|\n",
      "+------+--------------------+\n",
      "only showing top 20 rows\n",
      "\n"
     ]
    }
   ],
   "source": [
    "transformed_df.show()"
   ]
  },
  {
   "cell_type": "markdown",
   "id": "e1934549-0bd3-4dba-bab9-59db8ac97fa1",
   "metadata": {},
   "source": [
    "# saving the clean file as csv"
   ]
  },
  {
   "cell_type": "code",
   "execution_count": 127,
   "id": "e1d68f20-d108-4780-89de-6f0840e0551e",
   "metadata": {
    "tags": []
   },
   "outputs": [],
   "source": [
    "transformed_df.write.csv('DSA_practice.csv', header=True, mode='overwrite')"
   ]
  },
  {
   "cell_type": "code",
   "execution_count": null,
   "id": "594d2e9c-5362-4df9-a5ad-6b030587e68a",
   "metadata": {},
   "outputs": [],
   "source": []
  }
 ],
 "metadata": {
  "kernelspec": {
   "display_name": "Python 3 (ipykernel)",
   "language": "python",
   "name": "python3"
  },
  "language_info": {
   "codemirror_mode": {
    "name": "ipython",
    "version": 3
   },
   "file_extension": ".py",
   "mimetype": "text/x-python",
   "name": "python",
   "nbconvert_exporter": "python",
   "pygments_lexer": "ipython3",
   "version": "3.11.7"
  }
 },
 "nbformat": 4,
 "nbformat_minor": 5
}
